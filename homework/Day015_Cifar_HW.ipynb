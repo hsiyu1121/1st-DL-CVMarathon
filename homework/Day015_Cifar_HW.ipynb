{
 "cells": [
  {
   "cell_type": "markdown",
   "metadata": {},
   "source": [
    "## 『本次練習內容』\n",
    "#### 運用這幾天所學觀念搭建一個CNN分類器"
   ]
  },
  {
   "cell_type": "markdown",
   "metadata": {},
   "source": [
    "## 『本次練習目的』\n",
    "  #### 熟悉CNN分類器搭建步驟與原理\n",
    "  #### 學員們可以嘗試不同搭法，如使用不同的Maxpooling層，用GlobalAveragePooling取代Flatten等等"
   ]
  },
  {
   "cell_type": "code",
   "execution_count": 21,
   "metadata": {},
   "outputs": [],
   "source": [
    "from keras.models import Sequential\n",
    "from keras.layers import Convolution2D\n",
    "from keras.layers import MaxPooling2D\n",
    "from keras.layers import Flatten\n",
    "from keras.layers import Dense\n",
    "from keras.layers import Dropout\n",
    "from keras.layers import BatchNormalization\n",
    "from keras.datasets import cifar10\n",
    "import numpy as np\n",
    "import tensorflow as tf\n",
    "from sklearn.preprocessing import OneHotEncoder\n"
   ]
  },
  {
   "cell_type": "code",
   "execution_count": 22,
   "metadata": {},
   "outputs": [
    {
     "name": "stdout",
     "output_type": "stream",
     "text": [
      "(50000, 32, 32, 3)\n"
     ]
    }
   ],
   "source": [
    "(x_train, y_train), (x_test, y_test) = cifar10.load_data()\n",
    "\n",
    "print(x_train.shape) #(50000, 32, 32, 3)\n",
    "\n",
    "## Normalize Data\n",
    "def normalize(X_train,X_test):\n",
    "        mean = np.mean(X_train,axis=(0,1,2,3))\n",
    "        std = np.std(X_train, axis=(0, 1, 2, 3))\n",
    "        X_train = (X_train-mean)/(std+1e-7)\n",
    "        X_test = (X_test-mean)/(std+1e-7) \n",
    "        return X_train, X_test,mean,std\n",
    "    \n",
    "    \n",
    "## Normalize Training and Testset    \n",
    "x_train, x_test,mean_train,std_train = normalize(x_train, x_test) \n",
    "#cifar-10-python.tar.gz"
   ]
  },
  {
   "cell_type": "code",
   "execution_count": 23,
   "metadata": {},
   "outputs": [],
   "source": [
    "## OneHot Label 由(None, 1)-(None, 10)\n",
    "## ex. label=2,變成[0,0,1,0,0,0,0,0,0,0]\n",
    "one_hot=OneHotEncoder()\n",
    "y_train=one_hot.fit_transform(y_train).toarray()\n",
    "y_test=one_hot.transform(y_test).toarray()"
   ]
  },
  {
   "cell_type": "code",
   "execution_count": 24,
   "metadata": {},
   "outputs": [
    {
     "name": "stderr",
     "output_type": "stream",
     "text": [
      "/Users/hsiyu/opt/anaconda3/lib/python3.7/site-packages/ipykernel_launcher.py:19: UserWarning: Update your `Dense` call to the Keras 2 API: `Dense(activation=\"relu\", units=100)`\n",
      "/Users/hsiyu/opt/anaconda3/lib/python3.7/site-packages/ipykernel_launcher.py:21: UserWarning: Update your `Dense` call to the Keras 2 API: `Dense(activation=\"softmax\", units=10)`\n"
     ]
    },
    {
     "name": "stdout",
     "output_type": "stream",
     "text": [
      "Epoch 1/100\n",
      "50000/50000 [==============================] - 188s 4ms/step - loss: 1.3685 - accuracy: 0.5148\n",
      "Epoch 2/100\n",
      "50000/50000 [==============================] - 152s 3ms/step - loss: 0.9621 - accuracy: 0.6627\n",
      "Epoch 3/100\n",
      "50000/50000 [==============================] - 167s 3ms/step - loss: 0.7958 - accuracy: 0.7213\n",
      "Epoch 4/100\n",
      "50000/50000 [==============================] - 142s 3ms/step - loss: 0.6642 - accuracy: 0.7665\n",
      "Epoch 5/100\n",
      "50000/50000 [==============================] - 162s 3ms/step - loss: 0.5480 - accuracy: 0.8083\n",
      "Epoch 6/100\n",
      "50000/50000 [==============================] - 157s 3ms/step - loss: 0.4299 - accuracy: 0.8512\n",
      "Epoch 7/100\n",
      "50000/50000 [==============================] - 154s 3ms/step - loss: 0.3282 - accuracy: 0.8874\n",
      "Epoch 8/100\n",
      "50000/50000 [==============================] - 149s 3ms/step - loss: 0.2490 - accuracy: 0.9153\n",
      "Epoch 9/100\n",
      "50000/50000 [==============================] - 149s 3ms/step - loss: 0.2019 - accuracy: 0.9295\n",
      "Epoch 10/100\n",
      "50000/50000 [==============================] - 152s 3ms/step - loss: 0.1608 - accuracy: 0.9437\n",
      "Epoch 11/100\n",
      "50000/50000 [==============================] - 168s 3ms/step - loss: 0.1286 - accuracy: 0.9557\n",
      "Epoch 12/100\n",
      "50000/50000 [==============================] - 163s 3ms/step - loss: 0.1030 - accuracy: 0.9639\n",
      "Epoch 13/100\n",
      "50000/50000 [==============================] - 146s 3ms/step - loss: 0.0953 - accuracy: 0.9675\n",
      "Epoch 14/100\n",
      "50000/50000 [==============================] - 149s 3ms/step - loss: 0.0970 - accuracy: 0.9665\n",
      "Epoch 15/100\n",
      "50000/50000 [==============================] - 136s 3ms/step - loss: 0.0800 - accuracy: 0.9722\n",
      "Epoch 16/100\n",
      "50000/50000 [==============================] - 136s 3ms/step - loss: 0.0700 - accuracy: 0.9762\n",
      "Epoch 17/100\n",
      "50000/50000 [==============================] - 137s 3ms/step - loss: 0.0680 - accuracy: 0.9768\n",
      "Epoch 18/100\n",
      "50000/50000 [==============================] - 147s 3ms/step - loss: 0.0784 - accuracy: 0.9740\n",
      "Epoch 19/100\n",
      "50000/50000 [==============================] - 152s 3ms/step - loss: 0.0754 - accuracy: 0.9744\n",
      "Epoch 20/100\n",
      "50000/50000 [==============================] - 155s 3ms/step - loss: 0.0579 - accuracy: 0.9806\n",
      "Epoch 21/100\n",
      "50000/50000 [==============================] - 159s 3ms/step - loss: 0.0484 - accuracy: 0.9835\n",
      "Epoch 22/100\n",
      "50000/50000 [==============================] - 149s 3ms/step - loss: 0.0465 - accuracy: 0.9848\n",
      "Epoch 23/100\n",
      "50000/50000 [==============================] - 149s 3ms/step - loss: 0.0586 - accuracy: 0.9799\n",
      "Epoch 24/100\n",
      "50000/50000 [==============================] - 194s 4ms/step - loss: 0.0565 - accuracy: 0.9820\n",
      "Epoch 25/100\n",
      "50000/50000 [==============================] - 185s 4ms/step - loss: 0.0438 - accuracy: 0.9855\n",
      "Epoch 26/100\n",
      "50000/50000 [==============================] - 186s 4ms/step - loss: 0.0452 - accuracy: 0.9853\n",
      "Epoch 27/100\n",
      "50000/50000 [==============================] - 168s 3ms/step - loss: 0.0449 - accuracy: 0.9846\n",
      "Epoch 28/100\n",
      "50000/50000 [==============================] - 3510s 70ms/step - loss: 0.0427 - accuracy: 0.9862\n",
      "Epoch 29/100\n",
      "50000/50000 [==============================] - 147s 3ms/step - loss: 0.0428 - accuracy: 0.9858\n",
      "Epoch 30/100\n",
      "50000/50000 [==============================] - 151s 3ms/step - loss: 0.0426 - accuracy: 0.9853\n",
      "Epoch 31/100\n",
      "50000/50000 [==============================] - 145s 3ms/step - loss: 0.0384 - accuracy: 0.9868\n",
      "Epoch 32/100\n",
      "50000/50000 [==============================] - 187s 4ms/step - loss: 0.0264 - accuracy: 0.9913\n",
      "Epoch 33/100\n",
      "50000/50000 [==============================] - 206s 4ms/step - loss: 0.0440 - accuracy: 0.9854\n",
      "Epoch 34/100\n",
      "50000/50000 [==============================] - 218s 4ms/step - loss: 0.0449 - accuracy: 0.9854\n",
      "Epoch 35/100\n",
      "50000/50000 [==============================] - 159s 3ms/step - loss: 0.0333 - accuracy: 0.9889\n",
      "Epoch 36/100\n",
      "50000/50000 [==============================] - 4659s 93ms/step - loss: 0.0269 - accuracy: 0.9915\n",
      "Epoch 37/100\n",
      "50000/50000 [==============================] - 164s 3ms/step - loss: 0.0305 - accuracy: 0.9899\n",
      "Epoch 38/100\n",
      "50000/50000 [==============================] - 183s 4ms/step - loss: 0.0388 - accuracy: 0.9874\n",
      "Epoch 39/100\n",
      "50000/50000 [==============================] - 204s 4ms/step - loss: 0.0374 - accuracy: 0.9876\n",
      "Epoch 40/100\n",
      "50000/50000 [==============================] - 193s 4ms/step - loss: 0.0268 - accuracy: 0.9909\n",
      "Epoch 41/100\n",
      "50000/50000 [==============================] - 167s 3ms/step - loss: 0.0293 - accuracy: 0.9907\n",
      "Epoch 42/100\n",
      "50000/50000 [==============================] - 167s 3ms/step - loss: 0.0355 - accuracy: 0.9891\n",
      "Epoch 43/100\n",
      "50000/50000 [==============================] - 215s 4ms/step - loss: 0.0254 - accuracy: 0.9919\n",
      "Epoch 44/100\n",
      "50000/50000 [==============================] - 189s 4ms/step - loss: 0.0275 - accuracy: 0.9909\n",
      "Epoch 45/100\n",
      "50000/50000 [==============================] - 149s 3ms/step - loss: 0.0263 - accuracy: 0.9915\n",
      "Epoch 46/100\n",
      "50000/50000 [==============================] - 169s 3ms/step - loss: 0.0295 - accuracy: 0.9900\n",
      "Epoch 47/100\n",
      "50000/50000 [==============================] - 206s 4ms/step - loss: 0.0355 - accuracy: 0.9888\n",
      "Epoch 48/100\n",
      "50000/50000 [==============================] - 163s 3ms/step - loss: 0.0254 - accuracy: 0.9917\n",
      "Epoch 49/100\n",
      "50000/50000 [==============================] - 189s 4ms/step - loss: 0.0254 - accuracy: 0.9916\n",
      "Epoch 50/100\n",
      "50000/50000 [==============================] - 212s 4ms/step - loss: 0.0220 - accuracy: 0.9930\n",
      "Epoch 51/100\n",
      "50000/50000 [==============================] - 165s 3ms/step - loss: 0.0292 - accuracy: 0.9905\n",
      "Epoch 52/100\n",
      "50000/50000 [==============================] - 148s 3ms/step - loss: 0.0282 - accuracy: 0.9908\n",
      "Epoch 53/100\n",
      "50000/50000 [==============================] - 143s 3ms/step - loss: 0.0186 - accuracy: 0.9940\n",
      "Epoch 54/100\n",
      "50000/50000 [==============================] - 141s 3ms/step - loss: 0.0195 - accuracy: 0.9939\n",
      "Epoch 55/100\n",
      "50000/50000 [==============================] - 194s 4ms/step - loss: 0.0245 - accuracy: 0.9925\n",
      "Epoch 56/100\n",
      "50000/50000 [==============================] - 185s 4ms/step - loss: 0.0230 - accuracy: 0.9926\n",
      "Epoch 57/100\n",
      "50000/50000 [==============================] - 186s 4ms/step - loss: 0.0244 - accuracy: 0.9925\n",
      "Epoch 58/100\n",
      "50000/50000 [==============================] - 164s 3ms/step - loss: 0.0190 - accuracy: 0.9938\n",
      "Epoch 59/100\n",
      "50000/50000 [==============================] - 178s 4ms/step - loss: 0.0171 - accuracy: 0.9944\n",
      "Epoch 60/100\n",
      "50000/50000 [==============================] - 188s 4ms/step - loss: 0.0219 - accuracy: 0.9930\n",
      "Epoch 61/100\n",
      "50000/50000 [==============================] - 185s 4ms/step - loss: 0.0324 - accuracy: 0.9905\n",
      "Epoch 62/100\n",
      "50000/50000 [==============================] - 153s 3ms/step - loss: 0.0192 - accuracy: 0.9941\n",
      "Epoch 63/100\n",
      "50000/50000 [==============================] - 166s 3ms/step - loss: 0.0167 - accuracy: 0.9947\n",
      "Epoch 64/100\n",
      "50000/50000 [==============================] - 169s 3ms/step - loss: 0.0153 - accuracy: 0.9950\n",
      "Epoch 65/100\n",
      "50000/50000 [==============================] - 177s 4ms/step - loss: 0.0202 - accuracy: 0.9940\n",
      "Epoch 66/100\n",
      "50000/50000 [==============================] - 187s 4ms/step - loss: 0.0207 - accuracy: 0.9935\n",
      "Epoch 67/100\n",
      "50000/50000 [==============================] - 156s 3ms/step - loss: 0.0239 - accuracy: 0.9926\n",
      "Epoch 68/100\n",
      "50000/50000 [==============================] - 160s 3ms/step - loss: 0.0147 - accuracy: 0.9952\n",
      "Epoch 69/100\n",
      "50000/50000 [==============================] - 155s 3ms/step - loss: 0.0154 - accuracy: 0.9949\n",
      "Epoch 70/100\n",
      "50000/50000 [==============================] - 156s 3ms/step - loss: 0.0179 - accuracy: 0.9945\n",
      "Epoch 71/100\n",
      "50000/50000 [==============================] - 155s 3ms/step - loss: 0.0202 - accuracy: 0.9936\n",
      "Epoch 72/100\n",
      "50000/50000 [==============================] - 138s 3ms/step - loss: 0.0192 - accuracy: 0.9940\n",
      "Epoch 73/100\n",
      "50000/50000 [==============================] - 139s 3ms/step - loss: 0.0205 - accuracy: 0.9934\n",
      "Epoch 74/100\n",
      "50000/50000 [==============================] - 153s 3ms/step - loss: 0.0135 - accuracy: 0.9957\n",
      "Epoch 75/100\n",
      "50000/50000 [==============================] - 157s 3ms/step - loss: 0.0222 - accuracy: 0.9932\n",
      "Epoch 76/100\n"
     ]
    },
    {
     "name": "stdout",
     "output_type": "stream",
     "text": [
      "50000/50000 [==============================] - 157s 3ms/step - loss: 0.0159 - accuracy: 0.9949\n",
      "Epoch 77/100\n",
      "50000/50000 [==============================] - 156s 3ms/step - loss: 0.0165 - accuracy: 0.9947\n",
      "Epoch 78/100\n",
      "50000/50000 [==============================] - 154s 3ms/step - loss: 0.0181 - accuracy: 0.9940\n",
      "Epoch 79/100\n",
      "50000/50000 [==============================] - 155s 3ms/step - loss: 0.0155 - accuracy: 0.9949\n",
      "Epoch 80/100\n",
      "50000/50000 [==============================] - 156s 3ms/step - loss: 0.0182 - accuracy: 0.9944\n",
      "Epoch 81/100\n",
      "50000/50000 [==============================] - 158s 3ms/step - loss: 0.0191 - accuracy: 0.9940\n",
      "Epoch 82/100\n",
      "50000/50000 [==============================] - 155s 3ms/step - loss: 0.0130 - accuracy: 0.9960\n",
      "Epoch 83/100\n",
      "50000/50000 [==============================] - 159s 3ms/step - loss: 0.0162 - accuracy: 0.9954\n",
      "Epoch 84/100\n",
      "50000/50000 [==============================] - 156s 3ms/step - loss: 0.0147 - accuracy: 0.9959\n",
      "Epoch 85/100\n",
      "50000/50000 [==============================] - 159s 3ms/step - loss: 0.0184 - accuracy: 0.9943\n",
      "Epoch 86/100\n",
      "50000/50000 [==============================] - 157s 3ms/step - loss: 0.0177 - accuracy: 0.9945\n",
      "Epoch 87/100\n",
      "50000/50000 [==============================] - 159s 3ms/step - loss: 0.0180 - accuracy: 0.9945\n",
      "Epoch 88/100\n",
      "50000/50000 [==============================] - 159s 3ms/step - loss: 0.0145 - accuracy: 0.9955\n",
      "Epoch 89/100\n",
      "50000/50000 [==============================] - 152s 3ms/step - loss: 0.0146 - accuracy: 0.9957\n",
      "Epoch 90/100\n",
      "50000/50000 [==============================] - 146s 3ms/step - loss: 0.0124 - accuracy: 0.9960\n",
      "Epoch 91/100\n",
      "50000/50000 [==============================] - 176s 4ms/step - loss: 0.0109 - accuracy: 0.9965\n",
      "Epoch 92/100\n",
      "50000/50000 [==============================] - 174s 3ms/step - loss: 0.0126 - accuracy: 0.9960\n",
      "Epoch 93/100\n",
      "50000/50000 [==============================] - 189s 4ms/step - loss: 0.0202 - accuracy: 0.9940\n",
      "Epoch 94/100\n",
      "50000/50000 [==============================] - 184s 4ms/step - loss: 0.0178 - accuracy: 0.9943\n",
      "Epoch 95/100\n",
      "50000/50000 [==============================] - 184s 4ms/step - loss: 0.0143 - accuracy: 0.9958\n",
      "Epoch 96/100\n",
      "50000/50000 [==============================] - 183s 4ms/step - loss: 0.0096 - accuracy: 0.9971\n",
      "Epoch 97/100\n",
      "50000/50000 [==============================] - 180s 4ms/step - loss: 0.0114 - accuracy: 0.9963\n",
      "Epoch 98/100\n",
      "50000/50000 [==============================] - 220s 4ms/step - loss: 0.0172 - accuracy: 0.9948\n",
      "Epoch 99/100\n",
      "50000/50000 [==============================] - 153s 3ms/step - loss: 0.0208 - accuracy: 0.9937\n",
      "Epoch 100/100\n",
      "50000/50000 [==============================] - 139s 3ms/step - loss: 0.0136 - accuracy: 0.9960\n"
     ]
    },
    {
     "data": {
      "text/plain": [
       "<keras.callbacks.callbacks.History at 0x136ee5190>"
      ]
     },
     "execution_count": 24,
     "metadata": {},
     "output_type": "execute_result"
    }
   ],
   "source": [
    "classifier=Sequential()\n",
    "\n",
    "#卷積組合\n",
    "classifier.add(Convolution2D(filters = 32, kernel_size = (3,3), padding = 'same',input_shape=(32,32,3), activation='relu'))\n",
    "#32,3,3,input_shape=(32,32,3),activation='relu''\n",
    "classifier.add(BatchNormalization())\n",
    "\n",
    "'''自己決定MaxPooling2D放在哪裡'''\n",
    "\n",
    "#卷積組合\n",
    "classifier.add(Convolution2D(filters = 32, kernel_size = (3,3), padding = 'same', activation='relu'))\n",
    "classifier.add(BatchNormalization())\n",
    "classifier.add(MaxPooling2D(strides=(2, 2)))\n",
    "\n",
    "#flatten\n",
    "classifier.add(Flatten())\n",
    "\n",
    "#FC\n",
    "classifier.add(Dense(output_dim=100, activation='relu')) #output_dim=100,activation=relu\n",
    "#輸出\n",
    "classifier.add(Dense(output_dim=10,activation='softmax'))\n",
    "\n",
    "#超過兩個就要選categorical_crossentrophy\n",
    "classifier.compile(optimizer = 'adam', loss = 'categorical_crossentropy', metrics = ['accuracy'])\n",
    "classifier.fit(x_train,y_train,batch_size=100,epochs=100)"
   ]
  },
  {
   "cell_type": "markdown",
   "metadata": {},
   "source": [
    "## 預測新圖片，輸入影像前處理要與訓練時相同\n",
    "#### ((X-mean)/(std+1e-7) ):這裡的mean跟std是訓練集的\n",
    "## 維度如下方示範"
   ]
  },
  {
   "cell_type": "code",
   "execution_count": 26,
   "metadata": {},
   "outputs": [
    {
     "data": {
      "text/plain": [
       "array([[4.5494622e-26, 7.4768611e-17, 2.3324322e-09, 1.0000000e+00,\n",
       "        2.0370783e-09, 2.4581348e-22, 1.1011410e-13, 7.1522705e-23,\n",
       "        1.3024543e-25, 5.0397441e-30]], dtype=float32)"
      ]
     },
     "execution_count": 26,
     "metadata": {},
     "output_type": "execute_result"
    }
   ],
   "source": [
    "input_example=(np.zeros(shape=(1,32,32,3))-mean_train)/(std_train+1e-7) \n",
    "classifier.predict(input_example)"
   ]
  },
  {
   "cell_type": "code",
   "execution_count": null,
   "metadata": {},
   "outputs": [],
   "source": []
  }
 ],
 "metadata": {
  "kernelspec": {
   "display_name": "Python 3",
   "language": "python",
   "name": "python3"
  },
  "language_info": {
   "codemirror_mode": {
    "name": "ipython",
    "version": 3
   },
   "file_extension": ".py",
   "mimetype": "text/x-python",
   "name": "python",
   "nbconvert_exporter": "python",
   "pygments_lexer": "ipython3",
   "version": "3.7.4"
  }
 },
 "nbformat": 4,
 "nbformat_minor": 2
}
